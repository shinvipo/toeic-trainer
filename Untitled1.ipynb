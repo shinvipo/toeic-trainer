{
 "cells": [
  {
   "cell_type": "code",
   "execution_count": 1,
   "id": "b65bdc7d",
   "metadata": {},
   "outputs": [],
   "source": [
    "import requests\n",
    "from bs4 import BeautifulSoup\n",
    "import re\n",
    "from utils import *\n",
    "from cache import insert_into_table\n"
   ]
  },
  {
   "cell_type": "code",
   "execution_count": 2,
   "id": "f4cde2aa",
   "metadata": {},
   "outputs": [],
   "source": [
    "CAMBRIDGE_URL = \"https://dictionary.cambridge.org\"\n",
    "CAMBRIDGE_DICT_BASE_URL = CAMBRIDGE_URL + \"/dictionary/english/\"\n",
    "CAMBRIDGE_SPELLCHECK_URL = CAMBRIDGE_URL + \"/spellcheck/english/?q=\"\n",
    "CAMBRIDGE_DICT_BASE_URL_VI = CAMBRIDGE_URL + \"/dictionary/english-vietnamese/\"\n",
    "CAMBRIDGE_SPELLCHECK_URL_VI = CAMBRIDGE_URL + \"/spellcheck/english-vietnamese/?q=\"\n",
    "\n",
    "headers = { 'User-Agent': 'Mozilla/5.0 (Windows NT 6.0; WOW64; rv:24.0) Gecko/20100101 Firefox/24.0' }"
   ]
  },
  {
   "cell_type": "code",
   "execution_count": 4,
   "id": "48f0031e",
   "metadata": {},
   "outputs": [],
   "source": [
    "with open(\"./data/cambridge_response.html\",encoding=\"utf8\") as fp:\n",
    "    soup = BeautifulSoup(fp, \"html.parser\")"
   ]
  },
  {
   "cell_type": "code",
   "execution_count": 9,
   "id": "f01e3656",
   "metadata": {},
   "outputs": [
    {
     "data": {
      "text/plain": [
       "<title>\n",
       "   go | Vietnamese translation - Cambridge Dictionary\n",
       "  </title>"
      ]
     },
     "execution_count": 9,
     "metadata": {},
     "output_type": "execute_result"
    }
   ],
   "source": [
    "soup.head.title "
   ]
  },
  {
   "cell_type": "code",
   "execution_count": 14,
   "id": "caa26967",
   "metadata": {},
   "outputs": [
    {
     "name": "stdout",
     "output_type": "stream",
     "text": [
      "go\n"
     ]
    }
   ],
   "source": [
    "temp = soup.find(\"title\").text.split(\"-\")[0].strip()\n",
    "\n",
    "if \"|\" in temp:\n",
    "    response_word = temp.split(\"|\")[0].strip().lower()\n",
    "    \n",
    "print(response_word)"
   ]
  },
  {
   "cell_type": "code",
   "execution_count": 16,
   "id": "0484beaa",
   "metadata": {},
   "outputs": [],
   "source": [
    "first_dict = soup.find(\"div\", \"d pr di english-vietnamese kdic\")\n"
   ]
  },
  {
   "cell_type": "code",
   "execution_count": 31,
   "id": "340f1f49",
   "metadata": {},
   "outputs": [
    {
     "data": {
      "text/plain": [
       "'to walk , travel , move etc'"
      ]
     },
     "execution_count": 31,
     "metadata": {},
     "output_type": "execute_result"
    }
   ],
   "source": [
    "result = first_dict.find_all(\n",
    "                \"div\", \"def ddef_d db\"\n",
    "            )\n",
    "p = result[0].text.replace(\"\\n\",\"\").strip()\n",
    "\n",
    "re.sub(pattern=\"\\s+\",string=p,repl=\" \")"
   ]
  }
 ],
 "metadata": {
  "kernelspec": {
   "display_name": "Python 3 (ipykernel)",
   "language": "python",
   "name": "python3"
  },
  "language_info": {
   "codemirror_mode": {
    "name": "ipython",
    "version": 3
   },
   "file_extension": ".py",
   "mimetype": "text/x-python",
   "name": "python",
   "nbconvert_exporter": "python",
   "pygments_lexer": "ipython3",
   "version": "3.8.6"
  },
  "vscode": {
   "interpreter": {
    "hash": "e6eaa43d4f9c0f66522d2de8eed239e90bea7cbfd04cd82c0b0122bcfafd8d3f"
   }
  }
 },
 "nbformat": 4,
 "nbformat_minor": 5
}
