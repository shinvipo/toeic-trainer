{
 "cells": [
  {
   "cell_type": "code",
<<<<<<< HEAD
   "execution_count": 2,
   "id": "dcbc6269",
=======
   "execution_count": 1,
   "id": "d79b324c",
>>>>>>> 951712fb4f56a6f6e730efe7191b696b4e94401c
   "metadata": {},
   "outputs": [],
   "source": [
    "import json\n",
    "\n",
    "with open(\"vocal.json\",'r') as f:\n",
    "    vocal = json.load(f)"
   ]
  },
  {
   "cell_type": "code",
<<<<<<< HEAD
   "execution_count": 5,
   "id": "873c3811",
=======
   "execution_count": 2,
   "id": "210ef723",
>>>>>>> 951712fb4f56a6f6e730efe7191b696b4e94401c
   "metadata": {},
   "outputs": [],
   "source": [
    "toefl = vocal[\"TOEFL\"]\n",
    "gre = vocal['GRE']\n",
    "toeic = vocal['TOEIC']\n",
    "ielts = vocal['IELTS']\n",
    "jun = vocal['JUNIOR']\n",
    "sen = vocal['SENIOR']"
   ]
  },
  {
   "cell_type": "code",
<<<<<<< HEAD
   "execution_count": 8,
   "id": "2304bd2e",
=======
   "execution_count": 5,
   "id": "99f30e4e",
>>>>>>> 951712fb4f56a6f6e730efe7191b696b4e94401c
   "metadata": {},
   "outputs": [],
   "source": [
    "total = (toefl + gre + toeic + ielts + jun + sen)\n",
    "total = set((total))\n",
    "toeic_len = len(toeic)"
   ]
  },
  {
   "cell_type": "code",
   "execution_count": 6,
   "id": "917791c2",
   "metadata": {},
   "outputs": [
    {
     "data": {
      "text/plain": [
       "1794"
      ]
     },
     "execution_count": 6,
     "metadata": {},
     "output_type": "execute_result"
    }
   ],
   "source": [
    "toeic_len"
   ]
  },
  {
   "cell_type": "code",
   "execution_count": 14,
   "id": "6035b05d",
   "metadata": {},
   "outputs": [],
   "source": [
    "app_id = \"8e231c24\"\n",
    "app_key = \"0af504cce94d96482aebcdcfa52b954f\"\n",
    "language = \"en-us\"\n",
    "word_id = \"python\""
   ]
  },
  {
   "cell_type": "code",
   "execution_count": 15,
   "id": "654c8b2d",
   "metadata": {},
   "outputs": [],
   "source": [
    "import requests\n",
    "url = \"https://od-api.oxforddictionaries.com:443/api/v2/entries/\" + language + \"/\" + word_id.lower()\n",
    "r = requests.get(url, headers={\"app_id\": app_id, \"app_key\": app_key})"
   ]
  },
  {
   "cell_type": "code",
   "execution_count": 17,
   "id": "7bd6fa98",
   "metadata": {},
   "outputs": [
    {
     "data": {
      "text/plain": [
       "200"
      ]
     },
     "execution_count": 17,
     "metadata": {},
     "output_type": "execute_result"
    }
   ],
   "source": [
    "r.status_code\n"
   ]
  },
  {
   "cell_type": "code",
   "execution_count": 18,
   "id": "834242b7",
   "metadata": {},
   "outputs": [
    {
     "name": "stdout",
     "output_type": "stream",
     "text": [
      "{'id': 'python', 'metadata': {'operation': 'retrieve', 'provider': 'Oxford University Press', 'schema': 'RetrieveEntry'}, 'results': [{'id': 'python', 'language': 'en-us', 'lexicalEntries': [{'derivatives': [{'id': 'pythonic', 'text': 'pythonic'}], 'entries': [{'etymologies': ['late Middle English (in the Greek sense): via Latin from Greek Puthōn, the name of a huge serpent killed by Apollo. The main current sense dates from the early 19th century'], 'pronunciations': [{'dialects': ['American English'], 'phoneticNotation': 'respell', 'phoneticSpelling': 'ˈpīˌTHän'}, {'audioFile': 'https://audio.oxforddictionaries.com/en/mp3/python_1_us_1.mp3', 'dialects': ['American English'], 'phoneticNotation': 'IPA', 'phoneticSpelling': 'ˈpaɪˌθɑn'}, {'dialects': ['American English'], 'phoneticNotation': 'respell', 'phoneticSpelling': 'ˈpīTH(ə)n'}, {'audioFile': 'https://audio.oxforddictionaries.com/en/mp3/python_1_us_2.mp3', 'dialects': ['American English'], 'phoneticNotation': 'IPA', 'phoneticSpelling': 'ˈpaɪθ(ə)n'}], 'senses': [{'definitions': ['a large heavy-bodied nonvenomous snake occurring throughout the Old World tropics, killing prey by constriction and asphyxiation.'], 'domainClasses': [{'id': 'reptile', 'text': 'Reptile'}], 'id': 'm_en_gbus0833540.009', 'notes': [{'text': 'Family Pythonidae: genera Python (of Asia and Africa), and Morelia and Aspidites (of Australasia)', 'type': 'technicalNote'}], 'semanticClasses': [{'id': 'snake', 'text': 'Snake'}], 'shortDefinitions': ['large heavy-bodied non-venomous snake occurring throughout Old World tropics']}, {'definitions': ['a high-level general-purpose programming language.'], 'domainClasses': [{'id': 'computing', 'text': 'Computing'}], 'domains': [{'id': 'computing', 'text': 'Computing'}], 'id': 'm_en_gbus0833540.014', 'semanticClasses': [{'id': 'computer_language', 'text': 'Computer_Language'}], 'shortDefinitions': ['high-level general-purpose programming language'], 'variantForms': [{'text': 'Python'}]}]}], 'language': 'en-us', 'lexicalCategory': {'id': 'noun', 'text': 'Noun'}, 'text': 'python'}], 'type': 'headword', 'word': 'python'}], 'word': 'python'}\n"
     ]
    }
   ],
   "source": [
<<<<<<< HEAD
    "total = (toefl + gre + toeic + ielts + jun + sen)\n",
    "total = set(total)\n",
    "print(len(total))"
=======
    "json_data = r.json()\n",
    "\n",
    "print(json_data)\n"
>>>>>>> 951712fb4f56a6f6e730efe7191b696b4e94401c
   ]
  },
  {
   "cell_type": "code",
   "execution_count": null,
<<<<<<< HEAD
   "id": "645f445a",
=======
   "id": "c605c07f",
>>>>>>> 951712fb4f56a6f6e730efe7191b696b4e94401c
   "metadata": {},
   "outputs": [],
   "source": []
  }
 ],
 "metadata": {
  "kernelspec": {
   "display_name": "Python 3 (ipykernel)",
   "language": "python",
   "name": "python3"
  },
  "language_info": {
   "codemirror_mode": {
    "name": "ipython",
    "version": 3
   },
   "file_extension": ".py",
   "mimetype": "text/x-python",
   "name": "python",
   "nbconvert_exporter": "python",
   "pygments_lexer": "ipython3",
   "version": "3.8.6"
  }
 },
 "nbformat": 4,
 "nbformat_minor": 5
}
