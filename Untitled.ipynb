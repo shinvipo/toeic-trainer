{
 "cells": [
  {
   "cell_type": "code",
   "execution_count": 2,
   "id": "dcbc6269",
   "metadata": {},
   "outputs": [],
   "source": [
    "import json\n",
    "\n",
    "with open(\"vocal.json\",'r') as f:\n",
    "    vocal = json.load(f)"
   ]
  },
  {
   "cell_type": "code",
   "execution_count": 5,
   "id": "873c3811",
   "metadata": {},
   "outputs": [],
   "source": [
    "toefl = vocal[\"TOEFL\"]\n",
    "gre = vocal['GRE']\n",
    "toeic = vocal['TOEIC']\n",
    "ielts = vocal['IELTS']\n",
    "jun = vocal['JUNIOR']\n",
    "sen = vocal['SENIOR']"
   ]
  },
  {
   "cell_type": "code",
   "execution_count": 8,
   "id": "2304bd2e",
   "metadata": {},
   "outputs": [
    {
     "name": "stdout",
     "output_type": "stream",
     "text": [
      "12046\n"
     ]
    }
   ],
   "source": [
    "total = (toefl + gre + toeic + ielts + jun + sen)\n",
    "total = set(total)\n",
    "print(len(total))"
   ]
  },
  {
   "cell_type": "code",
   "execution_count": null,
   "id": "645f445a",
   "metadata": {},
   "outputs": [],
   "source": []
  }
 ],
 "metadata": {
  "kernelspec": {
   "display_name": "Python 3 (ipykernel)",
   "language": "python",
   "name": "python3"
  },
  "language_info": {
   "codemirror_mode": {
    "name": "ipython",
    "version": 3
   },
   "file_extension": ".py",
   "mimetype": "text/x-python",
   "name": "python",
   "nbconvert_exporter": "python",
   "pygments_lexer": "ipython3",
   "version": "3.8.10"
  }
 },
 "nbformat": 4,
 "nbformat_minor": 5
}
