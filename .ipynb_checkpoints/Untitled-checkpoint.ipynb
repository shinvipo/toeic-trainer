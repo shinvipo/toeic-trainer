{
 "cells": [
  {
   "cell_type": "code",
<<<<<<< HEAD
   "execution_count": 2,
   "id": "dcbc6269",
=======
   "execution_count": 1,
   "id": "d79b324c",
>>>>>>> 951712fb4f56a6f6e730efe7191b696b4e94401c
   "metadata": {},
   "outputs": [],
   "source": [
    "import json\n",
    "\n",
    "with open(\"vocal.json\",'r') as f:\n",
    "    vocal = json.load(f)"
   ]
  },
  {
   "cell_type": "code",
<<<<<<< HEAD
   "execution_count": 5,
   "id": "873c3811",
=======
   "execution_count": 2,
   "id": "210ef723",
>>>>>>> 951712fb4f56a6f6e730efe7191b696b4e94401c
   "metadata": {},
   "outputs": [],
   "source": [
    "toefl = vocal[\"TOEFL\"]\n",
    "gre = vocal['GRE']\n",
    "toeic = vocal['TOEIC']\n",
    "ielts = vocal['IELTS']\n",
    "jun = vocal['JUNIOR']\n",
    "sen = vocal['SENIOR']"
   ]
  },
  {
   "cell_type": "code",
<<<<<<< HEAD
   "execution_count": 8,
   "id": "2304bd2e",
=======
   "execution_count": 5,
   "id": "99f30e4e",
>>>>>>> 951712fb4f56a6f6e730efe7191b696b4e94401c
   "metadata": {},
   "outputs": [],
   "source": [
    "total = (toefl + gre + toeic + ielts + jun + sen)\n",
<<<<<<< HEAD
    "total = set(total)\n",
    "print(len(total))"
=======
    "total = set((total))\n",
    "toeic_len = len(toeic)"
   ]
  },
  {
   "cell_type": "code",
   "execution_count": 6,
   "id": "917791c2",
   "metadata": {},
   "outputs": [
    {
     "data": {
      "text/plain": [
       "1794"
      ]
     },
     "execution_count": 6,
     "metadata": {},
     "output_type": "execute_result"
    }
   ],
   "source": [
    "toeic_len"
   ]
  },
  {
   "cell_type": "code",
   "execution_count": 8,
   "id": "6035b05d",
   "metadata": {},
   "outputs": [],
   "source": [
    "app_id = \"8e231c24\"\n",
    "app_key = \"0af504cce94d96482aebcdcfa52b954f\"\n",
    "language = \"en-vi\"\n",
    "word_id = \"python\""
   ]
  },
  {
   "cell_type": "code",
   "execution_count": 10,
   "id": "dcf619c3",
   "metadata": {},
   "outputs": [],
   "source": [
    "import requests\n",
    "url = \"https://od-api.oxforddictionaries.com:443/api/v2/entries/\" + language + \"/\" + word_id.lower()\n",
    "r = requests.get(url, headers={\"app_id\": app_id, \"app_key\": app_key})"
   ]
  },
  {
   "cell_type": "code",
   "execution_count": 11,
   "id": "79bfe24f",
   "metadata": {},
   "outputs": [
    {
     "data": {
      "text/plain": [
       "404"
      ]
     },
     "execution_count": 11,
     "metadata": {},
     "output_type": "execute_result"
    }
   ],
   "source": [
    "r.status_code"
>>>>>>> 951712fb4f56a6f6e730efe7191b696b4e94401c
   ]
  },
  {
   "cell_type": "code",
   "execution_count": null,
<<<<<<< HEAD
   "id": "645f445a",
=======
   "id": "1f86c738",
>>>>>>> 951712fb4f56a6f6e730efe7191b696b4e94401c
   "metadata": {},
   "outputs": [],
   "source": []
  }
 ],
 "metadata": {
  "kernelspec": {
   "display_name": "Python 3 (ipykernel)",
   "language": "python",
   "name": "python3"
  },
  "language_info": {
   "codemirror_mode": {
    "name": "ipython",
    "version": 3
   },
   "file_extension": ".py",
   "mimetype": "text/x-python",
   "name": "python",
   "nbconvert_exporter": "python",
   "pygments_lexer": "ipython3",
   "version": "3.8.6"
  }
 },
 "nbformat": 4,
 "nbformat_minor": 5
}
