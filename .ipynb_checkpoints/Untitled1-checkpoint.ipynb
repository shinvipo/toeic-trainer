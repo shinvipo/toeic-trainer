{
 "cells": [
  {
   "cell_type": "code",
   "execution_count": 2,
   "id": "b65bdc7d",
   "metadata": {},
   "outputs": [],
   "source": [
    "import requests\n",
    "from bs4 import BeautifulSoup\n",
    "import re\n",
    "from utils import *\n",
    "from cache import insert_into_table\n"
   ]
  },
  {
   "cell_type": "code",
   "execution_count": 3,
   "id": "f4cde2aa",
   "metadata": {},
   "outputs": [],
   "source": [
    "CAMBRIDGE_URL = \"https://dictionary.cambridge.org\"\n",
    "CAMBRIDGE_DICT_BASE_URL = CAMBRIDGE_URL + \"/dictionary/english/\"\n",
    "CAMBRIDGE_SPELLCHECK_URL = CAMBRIDGE_URL + \"/spellcheck/english/?q=\"\n",
    "CAMBRIDGE_DICT_BASE_URL_VI = CAMBRIDGE_URL + \"/dictionary/english-vietnamese/\"\n",
    "CAMBRIDGE_SPELLCHECK_URL_VI = CAMBRIDGE_URL + \"/spellcheck/english-vietnamese/?q=\"\n",
    "\n",
    "headers = { 'User-Agent': 'Mozilla/5.0 (Windows NT 6.0; WOW64; rv:24.0) Gecko/20100101 Firefox/24.0' }"
   ]
  },
  {
   "cell_type": "code",
   "execution_count": null,
   "id": "48f0031e",
   "metadata": {},
   "outputs": [],
   "source": []
  }
 ],
 "metadata": {
  "kernelspec": {
   "display_name": "Python 3 (ipykernel)",
   "language": "python",
   "name": "python3"
  },
  "language_info": {
   "codemirror_mode": {
    "name": "ipython",
    "version": 3
   },
   "file_extension": ".py",
   "mimetype": "text/x-python",
   "name": "python",
   "nbconvert_exporter": "python",
   "pygments_lexer": "ipython3",
   "version": "3.8.6"
  }
 },
 "nbformat": 4,
 "nbformat_minor": 5
}
